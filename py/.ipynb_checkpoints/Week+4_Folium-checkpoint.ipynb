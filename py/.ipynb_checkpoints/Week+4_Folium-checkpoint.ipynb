{
 "cells": [
  {
   "cell_type": "code",
   "execution_count": null,
   "metadata": {
    "collapsed": true
   },
   "outputs": [],
   "source": [
    "# Admin stuff, please ignore\n",
    "from IPython.core.display import HTML\n",
    "HTML(\"\"\"\n",
    "<style>\n",
    "a code{\n",
    "    background-color:#296eaa !important;\n",
    "    color: #eff0f1 !important;\n",
    "    font-weight:bold;\n",
    "}\n",
    "</style>\n",
    "\"\"\")"
   ]
  },
  {
   "cell_type": "markdown",
   "metadata": {},
   "source": [
    "# Folium: Python data, leaflet.js maps\n",
    "[folium](https://python-visualization.github.io/folium/index.html) builds on the data wrangling strengths of the Python ecosystem and the mapping strengths of the leaflet.js library. Manipulate your data in Python, then visualize it in on a Leaflet map via folium.\n",
    "\n",
    "## Concepts\n",
    "folium makes it easy to visualize data that’s been manipulated in Python on an interactive leaflet map. It enables both the binding of data to a map for choropleth visualizations as well as passing rich vector/raster/HTML visualizations as markers on the map.\n",
    "\n",
    "The library has a number of built-in tilesets from OpenStreetMap, Mapbox, and Stamen, and supports custom tilesets with Mapbox or Cloudmade API keys. folium supports both Image, Video, GeoJSON and TopoJSON overlays.\n",
    "\n",
    "## Why webmaps?\n",
    "Webmaps allow complex data to be transported, communicated, and explored by a huge audience. The interactivity can sometimes be overwhelming, so an editorial perspective is important. But webmaps have in recent years developed in sophistocation, capacity, and ease of use such that they can be used to visualize all sorts of data, problems, and narratives. \n",
    "\n",
    "## Leaflet? js?\n",
    "Folium is based on Leaflet.js, a very widely used and powerful javascript library for webmapping. For more on [leaflet](https://leafletjs.com/), check out their docs. Folium's online documentation is good, but not as extensive as some of the other libraries we've used. `help()` is going to be your friend for exploring `folium`'s different functions.\n",
    "\n",
    "# 1: Getting started\n",
    "To begin, import `folium`. If you don't already have it, run `conda install -c conda-forge folium` in your anaconda terminal."
   ]
  },
  {
   "cell_type": "code",
   "execution_count": null,
   "metadata": {
    "collapsed": true
   },
   "outputs": [],
   "source": [
    "# importing folium\n",
    "import folium\n",
    "\n",
    "# making our first map\n",
    "m = folium.Map(location=[45.5236, -122.6750])"
   ]
  },
  {
   "cell_type": "markdown",
   "metadata": {},
   "source": [
    "<div class='alert alert-block alert-info'><b>Exercise: Call <code>m</code> in the cell below to display your map.</b></div>"
   ]
  },
  {
   "cell_type": "code",
   "execution_count": null,
   "metadata": {
    "collapsed": true
   },
   "outputs": [],
   "source": [
    "# Exercise: Call m"
   ]
  },
  {
   "cell_type": "markdown",
   "metadata": {},
   "source": [
    "Nice. This basic map uses the folium function `Map()` to create an inline map centered at the coordinates `[45.5236, -122.6750]`. The tileset here is from OpenStreetMap or OSM. You can learn more about OSM [here](https://www.openstreetmap.org/about).\n",
    "\n",
    "Next, let's export that map to an HTML document. Run the next cell and open the html file."
   ]
  },
  {
   "cell_type": "code",
   "execution_count": null,
   "metadata": {
    "collapsed": true
   },
   "outputs": [],
   "source": [
    "m.save('my_map.html')"
   ]
  },
  {
   "cell_type": "markdown",
   "metadata": {},
   "source": [
    "## Tiles\n",
    "Tiles make up the graphical components of base map, and are generally pre-rendered for different zoom levels. In folium, the default tiles are set to OpenStreetMap, but Stamen Terrain, Stamen Toner, Mapbox Bright, and Mapbox Control Room, and many others tiles are built in."
   ]
  },
  {
   "cell_type": "code",
   "execution_count": null,
   "metadata": {
    "collapsed": true
   },
   "outputs": [],
   "source": [
    "folium.Map(\n",
    "    location=[45.5236, -122.6750],\n",
    "    tiles='Stamen Toner',\n",
    "    zoom_start=13\n",
    ")\n"
   ]
  },
  {
   "cell_type": "markdown",
   "metadata": {},
   "source": [
    "<div class='alert alert-block alert-info'><b>^ Exercise: Change the map above to use <code>Stamen Watercolor</code> tiles.</b></div>"
   ]
  },
  {
   "cell_type": "markdown",
   "metadata": {},
   "source": [
    "You can use your [`Cloudmade`](https://wiki.openstreetmap.org/wiki/CloudMade) or [`Mapbox`](https://www.mapbox.com/) custom tilesets–simply pass your key to the API_key keyword:\n",
    "\n",
    "`folium.Map(location=[45.5236, -122.6750],\n",
    "           tiles='Mapbox',\n",
    "           API_key='your.API.key')`"
   ]
  },
  {
   "cell_type": "markdown",
   "metadata": {},
   "source": [
    "Lastly, Folium supports passing any leaflet.js compatible custom tileset. Here is a tileset made by some MCPs for a racial dot-density map in Atlanta Georgia."
   ]
  },
  {
   "cell_type": "code",
   "execution_count": null,
   "metadata": {
    "collapsed": true
   },
   "outputs": [],
   "source": [
    "folium.Map(location=[33.7490, -84.3880],\n",
    "           zoom_start=12,\n",
    "           tiles='http://www.doubleup.wrong.website/images/tiles/{z}/{x}/{y}.png',\n",
    "           attr='Dylan Halpern, Rachel Luo, Jonathan Leape; Data ACS 2017')"
   ]
  },
  {
   "cell_type": "markdown",
   "metadata": {},
   "source": [
    "# 2: Markers\n",
    "Map markers can communicate a variety of data, from points of interest to real-time locations, annotations about the physical world, and metadata about the visualization. There are numerous marker types, starting with a simple Leaflet style location marker with a popup and tooltip `HTML`."
   ]
  },
  {
   "cell_type": "code",
   "execution_count": null,
   "metadata": {
    "collapsed": true
   },
   "outputs": [],
   "source": [
    "# initialize map, use stamen terrain tiles\n",
    "my_map = folium.Map(\n",
    "    location=[45.372, -121.6972],\n",
    "    zoom_start=12,\n",
    "    tiles='Stamen Terrain'\n",
    ")\n",
    "\n",
    "# assign tooltip to string\n",
    "tooltip = 'Click me!'\n",
    "\n",
    "# create folium markerswith content and hover, add to \n",
    "folium.Marker([45.3288, -121.6625], popup='<i>Mt. Hood Meadows</i>', tooltip=tooltip).add_to(my_map)\n",
    "folium.Marker([45.3311, -121.7113], popup='<b>Timberline Lodge</b>', tooltip=tooltip).add_to(my_map)\n",
    "\n",
    "my_map\n"
   ]
  },
  {
   "cell_type": "markdown",
   "metadata": {},
   "source": [
    "In the cell above, we called the `folium.map()` function to initialize the map, using the `Stamen Terrain` files and setting a center location. Then, we set up the markers with a coordinate, popup text in HTML, and a tooltip. We added these markers to the map with the `add_to()` method -- in this case, `add_to(my_map)`."
   ]
  },
  {
   "cell_type": "markdown",
   "metadata": {},
   "source": [
    "<div class='alert alert-block alert-info'><b>^ Exercise: Set the map to center on Cambridge and add a marker for your favorite spot!</b></div>"
   ]
  },
  {
   "cell_type": "markdown",
   "metadata": {},
   "source": [
    "In addition to the default markers, folium has built-in support for for colors and marker icon types from [bootstrap](https://getbootstrap.com/)."
   ]
  },
  {
   "cell_type": "code",
   "execution_count": null,
   "metadata": {
    "collapsed": true
   },
   "outputs": [],
   "source": [
    "# initialize map, add tiles\n",
    "my_map = folium.Map(\n",
    "    location=[45.372, -121.6972],\n",
    "    zoom_start=12,\n",
    "    tiles='Stamen Terrain'\n",
    ")\n",
    "# add markers to the map\n",
    "folium.Marker(\n",
    "    location=[45.3288, -121.6625],\n",
    "    popup='Mt. Hood Meadows',\n",
    "    icon=folium.Icon(icon='cloud')\n",
    ").add_to(my_map)\n",
    "\n",
    "folium.Marker(\n",
    "    location=[45.3311, -121.7113],\n",
    "    popup='Timberline Lodge',\n",
    "    icon=folium.Icon(color='green')\n",
    ").add_to(my_map)\n",
    "\n",
    "folium.Marker(\n",
    "    location=[45.3300, -121.6823],\n",
    "    popup='Some Other Location',\n",
    "    icon=folium.Icon(color='red', icon='info-sign')\n",
    ").add_to(my_map)\n",
    "\n",
    "# load map\n",
    "my_map"
   ]
  },
  {
   "cell_type": "markdown",
   "metadata": {},
   "source": [
    "In the cell above, we again initialized the map, then used the `folium.Marker()` function to draw a marker and the `.add_to()` method to add it to our map. We used the `folium.icon()` function to assign an icon to the marker.\n",
    "\n",
    "Leaflet’s Circle and CircleMarker are built-in to folium. These functions draw different types of circles on the map. See the folium's [`features.py`](https://github.com/python-visualization/folium/blob/master/folium/features.py) for more options. Try running the cell below:"
   ]
  },
  {
   "cell_type": "code",
   "execution_count": null,
   "metadata": {
    "collapsed": true
   },
   "outputs": [],
   "source": [
    "# initialize the map\n",
    "my_map = folium.Map(\n",
    "    location=[45.5236, -122.6750],\n",
    "    tiles='Stamen Toner',\n",
    "    zoom_start=13\n",
    ")\n",
    "\n",
    "# create a circle using Circle() and add to map\n",
    "folium.Circle(\n",
    "    radius=100,\n",
    "    location=[45.5244, -122.6699],\n",
    "    popup='The Waterfront',\n",
    "    color='crimson',\n",
    "    fill=False,\n",
    ").add_to(my_map)\n",
    "\n",
    "# createa circle marker using CircleMarker() and add to map\n",
    "folium.CircleMarker(\n",
    "    location=[45.5215, -122.6261],\n",
    "    radius=50,\n",
    "    popup='Laurelhurst Park',\n",
    "    color='#3186cc',\n",
    "    fill=True,\n",
    "    fill_color='#3186cc'\n",
    ").add_to(my_map)\n",
    "\n",
    "\n",
    "my_map\n"
   ]
  },
  {
   "cell_type": "markdown",
   "metadata": {},
   "source": [
    "In the cell above, we made two circles on the map, using [`folium.Circle()`](https://python-visualization.github.io/folium/modules.html?highlight=circle#folium.vector_layers.Circle) and [`folium.CircleMarker()`](https://python-visualization.github.io/folium/modules.html?highlight=circle#folium.vector_layers.CircleMarker). What's the difference? `Circle()` creates a circle based on map units and scales as your zoom in, while `CircleMarker()` makes a circle with a radius by on a pixel value."
   ]
  },
  {
   "cell_type": "markdown",
   "metadata": {},
   "source": [
    "<div class='alert alert-block alert-info'><b>^ Exercise: Change the map to center on MIT and draw a circle around campus.</b></div>"
   ]
  },
  {
   "cell_type": "markdown",
   "metadata": {},
   "source": [
    "Folium can also add a pop-ups anywhere on the map. For instance, you could help users to find a location by interactively browsing the map."
   ]
  },
  {
   "cell_type": "code",
   "execution_count": null,
   "metadata": {
    "collapsed": true
   },
   "outputs": [],
   "source": [
    "# initialize the map \n",
    "my_map = folium.Map(\n",
    "    location=[46.1991, -122.1889],\n",
    "    tiles='Stamen Terrain',\n",
    "    zoom_start=13\n",
    ")\n",
    "\n",
    "# use the add_child() method to call the folium.LatngPopup() function\n",
    "my_map.add_child(folium.LatLngPopup())\n",
    "\n",
    "my_map"
   ]
  },
  {
   "cell_type": "markdown",
   "metadata": {},
   "source": [
    "The cell above intializes the map and calls the method [`add_child()`](https://python-visualization.github.io/folium/plugins.html#folium.plugins.DualMap.add_child) to create a popup on click. The function `folium.LatLngPopup` makes the appropriate content within the [`add_child()`](https://python-visualization.github.io/folium/plugins.html#folium.plugins.DualMap.add_child) method. Using this same method, we can add permanent markers to the map:"
   ]
  },
  {
   "cell_type": "code",
   "execution_count": null,
   "metadata": {
    "collapsed": true
   },
   "outputs": [],
   "source": [
    "# initialize map\n",
    "my_map = folium.Map(\n",
    "    location=[46.8527, -121.7649],\n",
    "    tiles='Stamen Terrain',\n",
    "    zoom_start=13\n",
    ")\n",
    "# add one marker\n",
    "folium.Marker(\n",
    "    [46.8354, -121.7325],\n",
    "    popup='Camp Muir'\n",
    ").add_to(m)\n",
    "\n",
    "# add markers on click with text \"Waypoint\"\n",
    "my_map.add_child(folium.ClickForMarker(popup='Waypoint'))\n"
   ]
  },
  {
   "cell_type": "markdown",
   "metadata": {},
   "source": [
    "<div class='alert alert-block alert-info'><b>^ Exercise: Center the map on Cambridge and add some of your favorite food spots. </b></div>"
   ]
  },
  {
   "cell_type": "markdown",
   "metadata": {},
   "source": [
    "# 3: Charts, Markers, and Maps, <i>oh my!</i>\n",
    "Simple markers are useful, but adding charts and more complex data can be even more important. Below, we're going to take a step back and make a chart in Bokeh, then add it to our map."
   ]
  },
  {
   "cell_type": "code",
   "execution_count": null,
   "metadata": {
    "collapsed": true
   },
   "outputs": [],
   "source": [
    "# importing libraries to load up our dataframes\n",
    "import os\n",
    "import json\n",
    "import requests\n",
    "import pandas as pd\n",
    "\n",
    "# loading sample data sets from github as df1, df2, df3\n",
    "url = 'https://raw.githubusercontent.com/python-visualization/folium/master/examples/data'\n",
    "df1 = pd.DataFrame(data=json.loads(requests.get(f'{url}/vis1.json').text)['data'][0]['values'])\n",
    "df2 = pd.DataFrame(data=json.loads(requests.get(f'{url}/vis2.json').text)['data'][0]['values'])\n",
    "df3 = pd.DataFrame(data=json.loads(requests.get(f'{url}/vis3.json').text)['data'][0]['values'])"
   ]
  },
  {
   "cell_type": "markdown",
   "metadata": {},
   "source": [
    "Start by taking a look at `df1`. It includes data about the \"dominant wave periods\" off the Pacific Northwest, with a column `idx` including a unix timestamp and `val` containing the value."
   ]
  },
  {
   "cell_type": "code",
   "execution_count": null,
   "metadata": {
    "collapsed": true
   },
   "outputs": [],
   "source": [
    "df1.head()"
   ]
  },
  {
   "cell_type": "markdown",
   "metadata": {},
   "source": [
    "Next, let's bring in the bokeh libraries we'll need."
   ]
  },
  {
   "cell_type": "code",
   "execution_count": null,
   "metadata": {
    "collapsed": true
   },
   "outputs": [],
   "source": [
    "from bokeh.io import output_notebook, output_file, show\n",
    "from bokeh.plotting import figure\n",
    "\n",
    "output_notebook()"
   ]
  },
  {
   "cell_type": "markdown",
   "metadata": {},
   "source": [
    "Folium has the data visualization library [`Vega`](https://vega.github.io/vega/) built-in, but since we've been using Bokeh we can find a way to integrate that. Run the cell below to draw the chart showing the change in wave periods over timeand export it to a file called \"chart_1.html\"."
   ]
  },
  {
   "cell_type": "code",
   "execution_count": null,
   "metadata": {
    "collapsed": true
   },
   "outputs": [],
   "source": [
    "# call figure with a datetime axis\n",
    "p = figure(x_axis_type=\"datetime\", title=\"Dominant Wave Periods\",plot_height=200, plot_width=500)\n",
    "\n",
    "# assign mark\n",
    "p.line(df1.idx, df1.val)\n",
    "\n",
    "output_file(\"chart_1.html\")\n",
    "show(p)\n"
   ]
  },
  {
   "cell_type": "markdown",
   "metadata": {},
   "source": [
    "Next, we'll initialize our map, read in the HTML, and format it to work in a popup for folium. Run the cell below and click on the makrer."
   ]
  },
  {
   "cell_type": "code",
   "execution_count": null,
   "metadata": {
    "collapsed": true
   },
   "outputs": [],
   "source": [
    "# initialize the map \n",
    "my_map = folium.Map(\n",
    "    location=[46.3014, -123.7390],\n",
    "    zoom_start=7,\n",
    "    tiles='Stamen Terrain'\n",
    ")\n",
    "\n",
    "# read in the HTML\n",
    "html=open('chart_1.html', 'r').read()\n",
    "\n",
    "# store the HTML in a container using the folium.IFrame() function\n",
    "iframe = folium.IFrame(html=html, width=540, height=240)\n",
    "\n",
    "# put the container in to a popup\n",
    "popup = folium.Popup(iframe, max_width=540)\n",
    "\n",
    "# add the marker to the map\n",
    "folium.Marker(\n",
    "    location=[47.3489, -124.708],\n",
    "    popup=popup\n",
    ").add_to(my_map)\n",
    "\n",
    "# show the map\n",
    "my_map\n"
   ]
  },
  {
   "cell_type": "markdown",
   "metadata": {},
   "source": [
    "<div class='alert alert-block alert-info'><b>^ Exercise: Make similar charts for <code>df2</code> and <code>df3</code>. Place them in markers at <code>[44.639, -124.5339]</code> and <code>[46.216, -124.1280]</code> respectively.</b></div>"
   ]
  },
  {
   "cell_type": "markdown",
   "metadata": {},
   "source": [
    "# 3b: CSV to Markers\n",
    "\n",
    "A lot of the data you'll work with may come to you in a CSV format. Below, for example, is the system data for the current BlueBikes stations.\n"
   ]
  },
  {
   "cell_type": "code",
   "execution_count": null,
   "metadata": {
    "collapsed": true
   },
   "outputs": [],
   "source": [
    "import folium\n",
    "from folium import plugins\n",
    "import pandas as pd\n",
    "\n",
    "df = pd.read_csv('current_bluebikes_stations.csv')\n",
    "df.head()"
   ]
  },
  {
   "cell_type": "markdown",
   "metadata": {},
   "source": [
    "We can use the latitude and lontitude points to add markers for each of these. We'll start with a simple map centered on Boston/Cambridge:"
   ]
  },
  {
   "cell_type": "code",
   "execution_count": null,
   "metadata": {
    "collapsed": true
   },
   "outputs": [],
   "source": [
    "my_map = folium.Map(\n",
    "    location=[42.3736, -71.1097],\n",
    "    zoom_start=12\n",
    ")\n",
    "\n",
    "my_map"
   ]
  },
  {
   "cell_type": "markdown",
   "metadata": {},
   "source": [
    "Next, we can loop through the DataFrame of BlueBikes stations and add a marker for each:"
   ]
  },
  {
   "cell_type": "code",
   "execution_count": null,
   "metadata": {
    "collapsed": true
   },
   "outputs": [],
   "source": [
    "my_map = folium.Map(\n",
    "    location=[42.3736, -71.1097],\n",
    "    zoom_start=12\n",
    ")\n",
    "\n",
    "for index, row in df.iterrows():\n",
    "    folium.Marker([row['Latitude'], row['Longitude']], \n",
    "                  popup=row['Number']\n",
    "                 ).add_to(my_map)\n",
    "\n",
    "my_map"
   ]
  },
  {
   "cell_type": "markdown",
   "metadata": {},
   "source": [
    "Pretty cool, right? You can do this will all sorts of data you might have."
   ]
  },
  {
   "cell_type": "markdown",
   "metadata": {},
   "source": [
    "# 4: GeoJson Layers\n",
    "\n",
    "In addition to tiles, markers and geometry marks, you can add detailed `GeoJson` and `TopoJson` layers to folium. These layers can display advanced geographic data.\n",
    "\n",
    "## Json? Geo? Topo?\n",
    "\n",
    "Json is an abbreviation for **J**ava**S**cript **O**bject **N**otation. Json is a format that is essentially similar to a Python dictionary, and is very useful for containing complete data. For more on json, visit [w3schools](https://www.w3schools.com/whatis/whatis_json.asp).\n",
    "\n",
    "GeoJson and TopoJson are two extensions of the Json standard to store geographic information. GeoJson has been an open standard for a long time, long before the ESRI Shapefile standard opened up. TopoJson is a variant on GeoJson, with advantages in performances in the way it stores geometry. \n",
    "\n",
    "## Below is a very simple, valid geoJson. "
   ]
  },
  {
   "cell_type": "code",
   "execution_count": null,
   "metadata": {
    "collapsed": true
   },
   "outputs": [],
   "source": [
    "geojson_example = {\n",
    "  \"type\": \"Feature\",\n",
    "  \"geometry\": {\n",
    "    \"type\": \"Point\",\n",
    "    \"coordinates\": [125.6, 10.1]\n",
    "  },\n",
    "  \"properties\": {\n",
    "    \"name\": \"Dinagat Islands\"\n",
    "  }\n",
    "}\n",
    "\n",
    "print(geojson_example)"
   ]
  },
  {
   "cell_type": "markdown",
   "metadata": {},
   "source": [
    "As you can see, this takes the same form as a Python dictionary, and nested within it are various other data types, including strings, lists, and other dictionaries (objects). \n",
    "\n",
    "In this case, This GeoJson is a `Feature` (as opposed to a `FeatureCollection` with multiple features), and that `Feature` is a `Point` in space representing the \"Dinagat Islands\". The coordinates for GeoJson are typically project in the WGS 84 (EPSG 4326) projection, but can be any projection system. A `Feature` can also be a `LineString` for lines, a `Polygon` for shapes and so on.\n",
    "\n",
    "The `properties` dictionary can contain any information about the geoJson feature, and can be called like any other dictionary:"
   ]
  },
  {
   "cell_type": "code",
   "execution_count": null,
   "metadata": {
    "collapsed": true
   },
   "outputs": [],
   "source": [
    "print(geojson_example['properties']['name'])\n",
    "print(geojson_example['geometry']['coordinates'])"
   ]
  },
  {
   "cell_type": "markdown",
   "metadata": {},
   "source": [
    "TopoJson differentiates itself by having a set of named lines or `arcs` in the document that each `Polygon` or `lineString` references, rather than discete `coordinates` for each feature. This is useful if you have something like a county map of the US, where 2 or more features share the same point, and repeating it increases file size and reduces performance. \n",
    "\n",
    "So, a topoJson of middlesex county in Massachusetts might look like [this](https://observablehq.com/@d3/u-s-map)...\n",
    "\n",
    "`{\"type\":\"Polygon\",\"arcs\":[[-9101,-7292,-3488,-5563,-3486,-5564,-7946]],\"id\":\"25017\",\"properties\":{\"name\":\"Middlesex\"}}`\n",
    "\n",
    "...instead of [this](https://eric.clst.org/tech/usgeojson/)...\n",
    "\n",
    "`{ \"type\": \"Feature\", \"properties\": {\"NAME\": \"Middlesex\"}, \"geometry\": { \"type\": \"Polygon\", \"coordinates\": [ [ [ -71.585168, 42.310977 ], [ -71.592502, 42.317901 ], [ -71.597350, 42.321149 ], [ -71.601885, 42.326971 ], [ -71.605158, 42.330259 ], [ -71.603591, 42.331676 ], [ -71.604099, 42.336768 ], [ -71.611573, 42.339008 ], [ -71.619131, 42.343349 ], [ -71.625825, 42.349724 ], [ -71.624702, 42.350465 ], [ -71.543297, 42.466451 ], [ -71.538949, 42.543069 ], [ -71.635812, 42.524091 ], [ -71.650613, 42.526191 ], [ -71.651713, 42.526391 ], [ -71.655413, 42.526891 ], [ -71.664613, 42.528291 ], [ -71.665513, 42.528391 ], [ -71.675714, 42.529990 ], [ -71.678980, 42.530351 ], [ -71.677730, 42.539397 ], [ -71.664614, 42.611589 ], [ -71.775742, 42.644216 ], [ -71.858410, 42.633840 ], [ -71.898714, 42.711478 ], [ -71.805450, 42.709137 ], [ -71.772510, 42.708310 ], [ -71.636214, 42.704888 ], [ -71.631814, 42.704788 ], [ -71.542520, 42.702726 ], [ -71.294205, 42.696990 ], [ -71.254532, 42.734136 ], [ -71.256103, 42.656691 ], [ -71.165015, 42.597959 ], [ -71.158617, 42.612948 ], [ -71.148613, 42.613249 ], [ -71.135290, 42.599061 ], [ -71.076133, 42.604077 ], [ -71.053496, 42.475895 ], [ -71.051571, 42.473891 ], [ -71.044796, 42.466195 ], [ -71.044729, 42.465724 ], [ -71.040044, 42.460706 ], [ -71.039114, 42.459513 ], [ -71.037270, 42.457674 ], [ -71.025864, 42.444743 ], [ -71.025777, 42.444753 ], [ -71.020377, 42.438250 ], [ -71.033203, 42.414226 ], [ -71.055295, 42.387097 ], [ -71.073496, 42.391796 ], [ -71.080595, 42.380997 ], [ -71.064095, 42.368997 ], [ -71.069795, 42.369097 ], [ -71.077095, 42.358697 ], [ -71.099196, 42.352797 ], [ -71.117099, 42.355594 ], [ -71.117197, 42.367197 ], [ -71.130997, 42.373796 ], [ -71.143501, 42.364969 ], [ -71.148565, 42.361174 ], [ -71.167625, 42.360073 ], [ -71.174798, 42.350265 ], [ -71.167565, 42.333441 ], [ -71.156833, 42.330189 ], [ -71.178935, 42.314316 ], [ -71.164804, 42.303764 ], [ -71.178636, 42.294595 ], [ -71.191155, 42.283059 ], [ -71.269919, 42.328096 ], [ -71.332434, 42.247729 ], [ -71.329217, 42.245023 ], [ -71.329561, 42.233670 ], [ -71.340830, 42.224605 ], [ -71.343065, 42.220242 ], [ -71.339837, 42.213886 ], [ -71.346980, 42.215555 ], [ -71.352024, 42.207311 ], [ -71.344170, 42.200703 ], [ -71.404381, 42.188215 ], [ -71.402220, 42.178798 ], [ -71.430174, 42.179386 ], [ -71.444067, 42.174889 ], [ -71.463957, 42.158239 ], [ -71.478119, 42.156782 ], [ -71.599318, 42.225959 ], [ -71.586759, 42.259545 ], [ -71.549466, 42.266124 ], [ -71.513048, 42.267148 ], [ -71.497046, 42.289829 ], [ -71.486125, 42.310885 ], [ -71.486768, 42.330075 ], [ -71.551126, 42.326395 ], [ -71.585168, 42.310977 ] ] ] } }`\n",
    "\n"
   ]
  },
  {
   "cell_type": "markdown",
   "metadata": {},
   "source": [
    "\n",
    "See more on [Geojson](https://en.wikipedia.org/wiki/GeoJSON) and more on [TopoJson](https://github.com/topojson/topojson).\n",
    "\n",
    "If you ever need to convert CSV to GeoJson, there are a number of [tools](https://www.convertcsv.com/csv-to-geojson.htm) available, as well as desktop GIS programs. Some [libraries](https://stackoverflow.com/questions/48586647/python-script-to-convert-csv-to-geojson) directly for Python exist as well.\n",
    "\n",
    "To start using Geojson and Topojson in folium, run the cell below to see a map of the antarctic ice shelf."
   ]
  },
  {
   "cell_type": "code",
   "execution_count": null,
   "metadata": {
    "collapsed": true
   },
   "outputs": [],
   "source": [
    "# url for sample data\n",
    "url = 'https://raw.githubusercontent.com/python-visualization/folium/master/examples/data'\n",
    "# json file URLs\n",
    "antarctic_ice_edge = f'{url}/antarctic_ice_edge.json'\n",
    "antarctic_ice_shelf_topo = f'{url}/antarctic_ice_shelf_topo.json'\n",
    "\n",
    "# initialize the map\n",
    "my_map = folium.Map(\n",
    "    location=[-59.1759, -11.6016],\n",
    "    zoom_start=2  # Limited levels of zoom for free Mapbox tiles.\n",
    ")\n",
    "\n",
    "# adding a geojson layer\n",
    "folium.GeoJson(\n",
    "    antarctic_ice_edge, # url of json\n",
    "    name='geojson' # naming layer\n",
    ").add_to(my_map) \n",
    "\n",
    "folium.TopoJson(\n",
    "    json.loads(requests.get(antarctic_ice_shelf_topo).text), # loading in topojson -- slightly more complex\n",
    "    'objects.antarctic_ice_shelf', # loading in topojson\n",
    "    name='topojson' # naming layer\n",
    ").add_to(my_map)\n",
    "\n",
    "# adding layer controls to show/hide\n",
    "folium.LayerControl().add_to(my_map)\n",
    "\n",
    "my_map"
   ]
  },
  {
   "cell_type": "markdown",
   "metadata": {},
   "source": [
    "In the cell above, we initialized the map and then added two layers using `folium.Geojson()` and `folium.Topojson()`. In the case of `Topojson()`, we need to use a loader due to the nature of the data, in this case `json.loads(requests.get(antarctic_ice_shelf_topo).text)`. This could also be assigned to a variable before. We also introduced layer controls here with `folium.LayerControl()`, which brings in the default leaflet.js layer controls."
   ]
  },
  {
   "cell_type": "markdown",
   "metadata": {},
   "source": [
    "<div class='alert alert-block alert-info'><b>Exercise (Below): Make a map of Commercial District in Cambridge using the provided GeoJson link below.</b></div>"
   ]
  },
  {
   "cell_type": "code",
   "execution_count": null,
   "metadata": {
    "collapsed": true
   },
   "outputs": [],
   "source": [
    "cambridge_districts = 'https://raw.githubusercontent.com/cambridgegis/cambridgegis_data/master/Assessing/FY2020/FY2020_Commercial_Districts/ASSESSING_CommercialDistrictsFY2020.geojson'"
   ]
  },
  {
   "cell_type": "markdown",
   "metadata": {},
   "source": [
    "# 5: Choropleth Maps\n",
    "Choropleth maps represent data in different geographies along a color scale. Choropleth can be easily created by binding the data between Pandas DataFrames/Series and Geo/TopoJSON geometries. [Color Brewer](http://colorbrewer2.org/#type=sequential&scheme=BuGn&n=3) sequential color schemes are built-in to the library, and can be passed to quickly visualize different combinations. For more on choropleths, see [Esri's Resource](https://www.arcgis.com/apps/MapJournal/index.html?appid=75eff041036d40cf8e70df99641004ca).\n",
    "\n",
    "Let's start by making a map of unemployment rates in the US."
   ]
  },
  {
   "cell_type": "code",
   "execution_count": null,
   "metadata": {
    "collapsed": true
   },
   "outputs": [],
   "source": [
    "# importing pandas\n",
    "import pandas as pd\n",
    "\n",
    "# importing sample data\n",
    "url = 'https://raw.githubusercontent.com/python-visualization/folium/master/examples/data'\n",
    "state_geo = f'{url}/us-states.json' # geography\n",
    "state_unemployment = f'{url}/US_Unemployment_Oct2012.csv' # unemployment data\n",
    "state_data = pd.read_csv(state_unemployment) # unemployment data to pandas dataframe\n",
    "\n",
    "# initialize the map\n",
    "my_map = folium.Map(location=[48, -102], zoom_start=3)\n",
    "\n",
    "# add a choropleth layer with folium.Choropleth()\n",
    "folium.Choropleth(\n",
    "    geo_data=state_geo, # geography \n",
    "    name='choropleth', # layer name\n",
    "    data=state_data, # data about states\n",
    "    columns=['State', 'Unemployment'], # columns to use\n",
    "    key_on='feature.id', # ## IMPORTANT ## the feature to make\n",
    "    fill_color='YlGn', # color scale\n",
    "    fill_opacity=0.7, # fill opacity\n",
    "    line_opacity=0.2, # stroke/outline/line opacity\n",
    "    legend_name='Unemployment Rate (%)' # legend name\n",
    ").add_to(my_map)\n",
    "\n",
    "folium.LayerControl().add_to(my_map)\n",
    "\n",
    "my_map"
   ]
  },
  {
   "cell_type": "markdown",
   "metadata": {},
   "source": [
    "In the cell above, we loaded data from a github page containg geographic information about US states and also tabular unemployment data. Using the `folium.Choropleth()` function we matched the two data set based on the state id (in the json `feature.id`), which paired the values to the geographies. The different arguments passed to the function defined the style, legend title, and other relevant information.\n",
    "\n",
    "## Binning\n",
    "Bins are a critical part of data visualization. Below, we introduce the variable `bins` that uses the pandas method [`quantile()`](https://pandas.pydata.org/pandas-docs/stable/reference/api/pandas.DataFrame.quantile.html) at quartile intervals (0, 0.25, 0.5, 0.75, 1). We can pass these bins to the `bins` argument under the `folium.Choropleth()` function."
   ]
  },
  {
   "cell_type": "code",
   "execution_count": null,
   "metadata": {
    "collapsed": true
   },
   "outputs": [],
   "source": [
    "bins = list(state_data['Unemployment'].quantile([0, 0.25, 0.5, 0.75, 1]))\n",
    "\n",
    "my_map = folium.Map(location=[48, -102], zoom_start=3)\n",
    "\n",
    "folium.Choropleth(\n",
    "    geo_data=state_geo,\n",
    "    data=state_data,\n",
    "    columns=['State', 'Unemployment'],\n",
    "    key_on='feature.id',\n",
    "    fill_color='BuPu',\n",
    "    fill_opacity=0.7,\n",
    "    line_opacity=0.5,\n",
    "    legend_name='Unemployment Rate (%)',\n",
    "    bins=bins,\n",
    "    reset=True\n",
    ").add_to(my_map)\n",
    "\n",
    "my_map"
   ]
  },
  {
   "cell_type": "markdown",
   "metadata": {},
   "source": [
    "<div class='alert alert-block alert-info'><b>Exercise (Below): Use the provided data frame of US State GDP Per Capitas to make a choropleth map. Use the <code>YlGnBu</code> color range. Bin it be terciles</b></div>"
   ]
  },
  {
   "cell_type": "code",
   "execution_count": null,
   "metadata": {
    "collapsed": true
   },
   "outputs": [],
   "source": [
    "# importing pandas\n",
    "import pandas as pd\n",
    "\n",
    "# importing sample data\n",
    "url = 'https://raw.githubusercontent.com/python-visualization/folium/master/examples/data'\n",
    "state_geo = f'{url}/us-states.json' # geography\n",
    "state_gdp = 'https://gist.githubusercontent.com/nofurtherinformation/2d1017aa32e0163165c00afccff82dbd/raw/4976b4a890ca7f43049e5656b989c3652bede005/gdp_per_capita.csv'\n",
    "state_data = pd.read_csv(state_gdp) # unemployment data to pandas dataframe\n",
    "\n"
   ]
  },
  {
   "cell_type": "markdown",
   "metadata": {},
   "source": [
    "## Further Styling\n",
    "`GeoJson` and `TopoJson` features accepts [`style_function`](https://python-visualization.github.io/folium/modules.html#folium.features.GeoJson) to allow for further custimization of the map. Take a look at the use example below."
   ]
  },
  {
   "cell_type": "code",
   "execution_count": null,
   "metadata": {
    "collapsed": true
   },
   "outputs": [],
   "source": [
    "# import colorscale library branca \n",
    "import branca\n",
    "\n",
    "# import geographic and tabular data\n",
    "url = 'https://raw.githubusercontent.com/python-visualization/folium/master/examples/data'\n",
    "county_data = f'{url}/us_county_data.csv'\n",
    "county_geo = f'{url}/us_counties_20m_topo.json'\n",
    "\n",
    "# create dataframe from tabular data\n",
    "df = pd.read_csv(county_data, na_values=[' '])\n",
    "\n",
    "# assign color scale\n",
    "colorscale = branca.colormap.linear.YlOrRd_09.scale(0, 50e3)\n",
    "\n",
    "# extracting employment data\n",
    "employed_series = df.set_index('FIPS_Code')['Employed_2011']\n",
    "\n",
    "# feature to create colors along scale\n",
    "def style_function(feature):\n",
    "    employed = employed_series.get(int(feature['id'][-5:]), None)\n",
    "    return {\n",
    "        'fillOpacity': 0.5,\n",
    "        'weight': 0,\n",
    "        'fillColor': '#black' if employed is None else colorscale(employed)\n",
    "    }\n",
    "\n",
    "# initialize map\n",
    "my_map = folium.Map(\n",
    "    location=[48, -102],\n",
    "    tiles='cartodbpositron',\n",
    "    zoom_start=3\n",
    ")\n",
    "\n",
    "# load Topojson, style function\n",
    "folium.TopoJson(\n",
    "    json.loads(requests.get(county_geo).text),\n",
    "    'objects.us_counties_20m',\n",
    "    style_function=style_function\n",
    ").add_to(my_map)\n",
    "\n",
    "my_map"
   ]
  },
  {
   "cell_type": "markdown",
   "metadata": {},
   "source": [
    "The example above uses county level data (and geographies) together with a new library, [`branca`](https://github.com/python-visualization/branca), to create color scales. The function `style_function()` created above applies the colorscale to each value and returns it in the style parameters, much like the transformation from numbers to colors we saw in Bokeh.\n",
    "\n",
    "\n",
    "<div class='alert alert-block alert-info'><b>Exercise (Below): Use the provided data in the last cell to make a county level map of the US that uses the Viridis color scheme.</b></div>"
   ]
  },
  {
   "cell_type": "code",
   "execution_count": null,
   "metadata": {
    "collapsed": true
   },
   "outputs": [],
   "source": [
    "df.head()\n",
    "\n"
   ]
  },
  {
   "cell_type": "markdown",
   "metadata": {},
   "source": [
    "Finally, export your map as `HTML`."
   ]
  },
  {
   "cell_type": "code",
   "execution_count": null,
   "metadata": {
    "collapsed": true
   },
   "outputs": [],
   "source": [
    "my_map.save('my_map.html')"
   ]
  },
  {
   "cell_type": "markdown",
   "metadata": {},
   "source": [
    "End of Folium."
   ]
  }
 ],
 "metadata": {
  "kernelspec": {
   "display_name": "Python 3",
   "language": "python",
   "name": "python3"
  },
  "language_info": {
   "codemirror_mode": {
    "name": "ipython",
    "version": 3
   },
   "file_extension": ".py",
   "mimetype": "text/x-python",
   "name": "python",
   "nbconvert_exporter": "python",
   "pygments_lexer": "ipython3",
   "version": "3.7.6"
  }
 },
 "nbformat": 4,
 "nbformat_minor": 2
}
